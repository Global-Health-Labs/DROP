{
 "cells": [
  {
   "cell_type": "code",
   "execution_count": 1,
   "id": "a7526929",
   "metadata": {},
   "outputs": [],
   "source": [
    "# Input the type of analysis to be run (options are 'line_darkframe', 'line_lightframe', 'spot_darkframe') \n",
    "type_of_analysis = 'line_lightframe'\n",
    "\n",
    "# Input the color channel to be analyze (options are 'red', 'green', 'blue' and 'gray')\n",
    "color_channel = 'red'"
   ]
  },
  {
   "cell_type": "code",
   "execution_count": 2,
   "id": "f59a7c29",
   "metadata": {},
   "outputs": [],
   "source": [
    "import os\n",
    "import multiprocessing as mp\n",
    "from multiprocessing.pool import ThreadPool as Pool\n",
    "import pandas as pd\n",
    "\n",
    "def run_batchfile(each_file):\n",
    "    # Execute a batch file using the OS system command\n",
    "    os.system(each_file)\n",
    "    return 1\n",
    "\n",
    "\n",
    "def get_each_df(each_dir):\n",
    "    # Read a CSV file from a directory and add a 'group' column\n",
    "    each_df = pd.read_csv(os.path.join(each_dir, 'image.csv'))\n",
    "    each_df['group'] = os.path.basename(each_dir)\n",
    "    return each_df\n",
    "\n",
    "# this may stay this way or may move to yaml argparse \n",
    "para_texts = {\n",
    "     'line_darkframe': \"{\\\"row0\\\":608, \\\"row1\\\":978, \\\"col0\\\":450, \\\"col1\\\":1700, \\\"median_blur_size\\\":7, \\\"sobel_size\\\":11, \\\"dark_frame\\\":1, \\\"gblur_size\\\":30, \\\"crop_right_extra\\\":1, \\\"row_offset\\\":20, \\\"col_offset\\\":260, \\\"border\\\":[500, 800], \\\"color_channel\\\":[\\\"gray\\\", \\\"gray\\\"], \\\"signal_type\\\":[\\\"line\\\", \\\"line\\\"], \\\"do_detrend\\\":1, \\\"ndetrend\\\":5, \\\"nsignal\\\":3, \\\"nblur\\\":400, \\\"top_fraction\\\":0.05, \\\"contour_mode\\\":1, \\\"contour_method\\\":2, \\\"rect_height\\\":10, \\\"edge_gap\\\":40}\",\n",
    "     'line_lightframe':  \"{\\\"row0\\\":608, \\\"row1\\\":900, \\\"col0\\\":680, \\\"col1\\\":1500, \\\"median_blur_size\\\":7, \\\"sobel_size\\\":5, \\\"dark_frame\\\":0, \\\"gblur_size\\\":30, \\\"crop_right_extra\\\":1, \\\"row_offset\\\":40, \\\"col_offset\\\":30, \\\"border\\\":[190, 465], \\\"color_channel\\\":[\\\"red\\\", \\\"red\\\"], \\\"signal_type\\\":[\\\"line\\\", \\\"line\\\"], \\\"do_detrend\\\":1, \\\"ndetrend\\\":5, \\\"nsignal\\\":3, \\\"nblur\\\":400, \\\"top_fraction\\\":0.05, \\\"contour_mode\\\":1, \\\"contour_method\\\":2, \\\"rect_height\\\":10, \\\"edge_gap\\\":40}\",\n",
    "     'spot_darkframe': \"{\\\"row0\\\":644, \\\"row1\\\":924, \\\"col0\\\":840, \\\"col1\\\":1380, \\\"median_blur_size\\\":7, \\\"sobel_size\\\":5, \\\"dark_frame\\\":1, \\\"gblur_size\\\":10, \\\"crop_right_extra\\\":0, \\\"row_offset\\\":40, \\\"col_offset\\\":30, \\\"border\\\":[300], \\\"color_channel\\\":[\\\"gray\\\"], \\\"signal_type\\\":[\\\"spot\\\"], \\\"do_detrend\\\":1, \\\"ndetrend\\\":5, \\\"nsignal\\\":3, \\\"nblur\\\":400, \\\"top_fraction\\\":0.05, \\\"contour_mode\\\":1, \\\"contour_method\\\":2, \\\"rect_height\\\":10, \\\"edge_gap\\\":40}\",\n",
    "}"
   ]
  },
  {
   "cell_type": "code",
   "execution_count": 3,
   "id": "31cedb69",
   "metadata": {},
   "outputs": [],
   "source": [
    "if __name__ == '__main__':\n",
    "    # Get the corresponding parameter text\n",
    "    para_text = para_texts[type_of_analysis]\n",
    "\n",
    "    # Find all subdirectories in the current directory\n",
    "    dir = [each[0] for each in os.walk('.')]\n",
    "    dir = dir[1:]  # Eliminate the first one, which is the current directory '.'\n",
    "    dir = [each for each in dir if ('.idea' not in each and '__pycache__' not in each \n",
    "                                    and '.git' not in each and '.ipynb_checkpoints' not in each)]\n",
    "\n",
    "    # Create batch files for each subdirectory    \n",
    "    file = [os.path.basename(each) + '.bat' for each in dir]\n",
    "    for each_dir, each_file in zip(dir, file):\n",
    "        # Prepare the command to run the analysis script with the directory and parameters\n",
    "        out_string = 'python \"Hamilton_image_analysis.py\" ' + '\"' + each_dir + '\" \"' + para_text.replace('\"','\\\\\"') + '\"\\n'\n",
    "        \n",
    "        # Write the command to the batch file\n",
    "        out_file = open(each_file, 'w')\n",
    "        out_file.write(out_string)\n",
    "        out_file.close()\n",
    "\n",
    "    # Run the batch files in parallel using multiprocessing\n",
    "    pool = Pool(mp.cpu_count())\n",
    "    pool.map(run_batchfile, file)\n",
    "    pool.close()\n",
    "    pool.join()\n",
    "\n",
    "    # Compile all data from the processed directories into a single DataFrame\n",
    "    df = pd.concat([get_each_df(each_dir) for each_dir in dir])\n",
    "    \n",
    "    # Extract the 'guid' from the filename and add it as a new column\n",
    "    df['guid'] = df['filename'].str.split('_', n=1, expand=True).iloc[:,0].astype(int)\n",
    "    \n",
    "    # Save the compiled data to a CSV file\n",
    "    df.to_csv('all_results.csv', index=False)"
   ]
  },
  {
   "cell_type": "code",
   "execution_count": null,
   "id": "84659ec3",
   "metadata": {},
   "outputs": [],
   "source": []
  }
 ],
 "metadata": {
  "kernelspec": {
   "display_name": "Python 3 (ipykernel)",
   "language": "python",
   "name": "python3"
  },
  "language_info": {
   "codemirror_mode": {
    "name": "ipython",
    "version": 3
   },
   "file_extension": ".py",
   "mimetype": "text/x-python",
   "name": "python",
   "nbconvert_exporter": "python",
   "pygments_lexer": "ipython3",
   "version": "3.9.7"
  }
 },
 "nbformat": 4,
 "nbformat_minor": 5
}
